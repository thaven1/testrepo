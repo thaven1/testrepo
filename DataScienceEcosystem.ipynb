{
 "cells": [
  {
   "cell_type": "markdown",
   "id": "c85d7e44",
   "metadata": {},
   "source": [
    "# Data Science Tools and Ecosystem"
   ]
  },
  {
   "cell_type": "markdown",
   "id": "c34f004f",
   "metadata": {},
   "source": [
    "## Author ##\n",
    "T. Haven"
   ]
  },
  {
   "cell_type": "markdown",
   "id": "27fd1eae",
   "metadata": {},
   "source": [
    "In this notebook, Data Science Tools and Ecosystem are summarized."
   ]
  },
  {
   "cell_type": "markdown",
   "id": "7e40bd9c",
   "metadata": {},
   "source": [
    "**Objectives:**\n",
    "- List popular Data Science languages\n",
    "- List common Data Science libraries\n",
    "- Use simple Jupyter markupcell syntax\n",
    "- Use simple Jupyter code cell syntax\n",
    "- Use common computer tools to create screenshots to share Data Science info\n"
   ]
  },
  {
   "cell_type": "code",
   "execution_count": null,
   "id": "4f917635",
   "metadata": {},
   "outputs": [],
   "source": []
  },
  {
   "cell_type": "markdown",
   "id": "165b7586",
   "metadata": {},
   "source": [
    "Some of the popular languages that Data Scientists use are:\n",
    "1. Python\n",
    "2. R\n",
    "3. Scala"
   ]
  },
  {
   "cell_type": "markdown",
   "id": "8222a7c9",
   "metadata": {},
   "source": [
    "Some of the commonly used libraries used by Data Scientists include:\n",
    "1. SciKitLearn\n",
    "2. Pandas\n",
    "3. dplyr"
   ]
  },
  {
   "cell_type": "markdown",
   "id": "6690a013",
   "metadata": {},
   "source": [
    "| Data Science Tools |\n",
    "| --- |\n",
    "| Git |\n",
    "| Jupyter |\n",
    "| Apache Spark |"
   ]
  },
  {
   "cell_type": "markdown",
   "id": "c4d06f01",
   "metadata": {},
   "source": [
    "### Below are a few examples of evaluating arithmetic expressions in Python\n",
    "\n",
    "\"x = 2\"  \n",
    "\"x + 2\"  \n",
    "\"x = x + 2\"  \n",
    "\"y = 3\"  \n",
    "\"z = x + y\"  \n",
    "\"print(z)\""
   ]
  },
  {
   "cell_type": "code",
   "execution_count": 1,
   "id": "d9edd032",
   "metadata": {},
   "outputs": [
    {
     "data": {
      "text/plain": [
       "17"
      ]
     },
     "execution_count": 1,
     "metadata": {},
     "output_type": "execute_result"
    }
   ],
   "source": [
    "# This a simple arithmetic expression to mutiply then add integers\n",
    "(3*4)+5"
   ]
  },
  {
   "cell_type": "code",
   "execution_count": 7,
   "id": "86458cd4",
   "metadata": {},
   "outputs": [
    {
     "name": "stdout",
     "output_type": "stream",
     "text": [
      "200 minutes is equal to 3.3333333333333335 hours.\n"
     ]
    }
   ],
   "source": [
    "# This will convert 200 minutes to hours by diving by 60\n",
    "print(\"200 minutes is equal to\", 200/60, \"hours.\")"
   ]
  },
  {
   "cell_type": "code",
   "execution_count": null,
   "id": "b9611052",
   "metadata": {},
   "outputs": [],
   "source": []
  }
 ],
 "metadata": {
  "kernelspec": {
   "display_name": "Python 3",
   "language": "python",
   "name": "python3"
  },
  "language_info": {
   "codemirror_mode": {
    "name": "ipython",
    "version": 3
   },
   "file_extension": ".py",
   "mimetype": "text/x-python",
   "name": "python",
   "nbconvert_exporter": "python",
   "pygments_lexer": "ipython3",
   "version": "3.8.8"
  }
 },
 "nbformat": 4,
 "nbformat_minor": 5
}
